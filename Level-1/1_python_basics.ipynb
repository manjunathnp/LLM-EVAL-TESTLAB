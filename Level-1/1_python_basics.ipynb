{
 "cells": [
  {
   "cell_type": "markdown",
   "id": "df7fc148",
   "metadata": {},
   "source": [
    "## Welcome Message to Console"
   ]
  },
  {
   "cell_type": "code",
   "execution_count": 14,
   "id": "9e0bfc67",
   "metadata": {},
   "outputs": [
    {
     "name": "stdout",
     "output_type": "stream",
     "text": [
      "Hello! Welcome to the fascinating world of AI Evaluations!!\n"
     ]
    }
   ],
   "source": [
    "print(\"Hello! Welcome to the fascinating world of AI Evaluations!!\")"
   ]
  },
  {
   "cell_type": "markdown",
   "id": "50cb9a65",
   "metadata": {},
   "source": [
    "## Python Basics (Variables, Data Types, Operators)"
   ]
  },
  {
   "cell_type": "markdown",
   "id": "6da8d751",
   "metadata": {},
   "source": [
    "### **Variables, Data Types, Operators**\n",
    "\n",
    "- Variables store data in memory \n",
    "- Data types define the nature of that data (numbers, text, lists, etc.). \n",
    "- Operators perform operations like addition, comparison, or concatenation."
   ]
  },
  {
   "cell_type": "code",
   "execution_count": 15,
   "id": "de128361",
   "metadata": {},
   "outputs": [
    {
     "name": "stdout",
     "output_type": "stream",
     "text": [
      "199.99\n",
      "AIEvals\n"
     ]
    }
   ],
   "source": [
    "# Variables\n",
    "x = 100             # number\n",
    "y = 'AI'    # string\n",
    "z = 99.99           # float\n",
    "\n",
    "# Operators\n",
    "sum = x + z             # addition\n",
    "text_result = y+'Evals' # concatenation\n",
    "\n",
    "print(sum)\n",
    "print(text_result)"
   ]
  },
  {
   "cell_type": "markdown",
   "id": "47440c6d",
   "metadata": {},
   "source": [
    "### **Explanation Specific to AI Evaluation/Testing**\n",
    "\n",
    "In AI Evaluation, variables will store:\n",
    "\n",
    "- **Prompts** (input to the AI model)\n",
    "- **Model Outputs** (generated text)\n",
    "- **Evaluation Scores** (like hallucination score, relevance score)\n",
    "- **Thresholds** (pass/fail cutoffs)"
   ]
  },
  {
   "cell_type": "markdown",
   "id": "562c7595",
   "metadata": {},
   "source": [
    "#### Example"
   ]
  },
  {
   "cell_type": "code",
   "execution_count": 16,
   "id": "ca2f11f9",
   "metadata": {},
   "outputs": [],
   "source": [
    "prompt = \"What is the capital of France\"\n",
    "model_output = \"Paris\"\n",
    "relevance_score = 0.95\n",
    "hallucination_threshold = 0.8"
   ]
  },
  {
   "cell_type": "markdown",
   "id": "a5ab616a",
   "metadata": {},
   "source": [
    "##### We can use operators to check if a model passes:"
   ]
  },
  {
   "cell_type": "code",
   "execution_count": 17,
   "id": "bc7dc3a7",
   "metadata": {},
   "outputs": [
    {
     "name": "stdout",
     "output_type": "stream",
     "text": [
      "Result:  True\n"
     ]
    }
   ],
   "source": [
    "is_relevant = relevance_score >= hallucination_threshold\n",
    "print(\"Result: \", is_relevant)"
   ]
  },
  {
   "cell_type": "markdown",
   "id": "5f03ee1a",
   "metadata": {},
   "source": [
    "### **AI Evaluation/Testing Exercise**\n",
    "\n",
    "**Goal:** Store and evaluate a single test case for **hallucination detection**."
   ]
  },
  {
   "cell_type": "code",
   "execution_count": 18,
   "id": "20fce3f1",
   "metadata": {},
   "outputs": [
    {
     "name": "stdout",
     "output_type": "stream",
     "text": [
      "Prompt:  what is 2+2\n",
      "Model Output:  4\n",
      "Hallucination Score:  0\n",
      "Test Result Pass?  True\n"
     ]
    }
   ],
   "source": [
    "# Test case variables\n",
    "\n",
    "prompt = \"what is 2+2\"\n",
    "model_output = \"4\"\n",
    "hallucination_score = 0\n",
    "hallucination_threshold = 0.2\n",
    "\n",
    "# Check if output passes hallucination test\n",
    "passes_test = hallucination_score <= hallucination_threshold\n",
    "\n",
    "# Print results\n",
    "print(f\"Prompt: \", prompt)\n",
    "print(f\"Model Output: \", model_output)\n",
    "print(f\"Hallucination Score: \", hallucination_score)\n",
    "print(f\"Test Result Pass? \", passes_test)\n"
   ]
  },
  {
   "cell_type": "markdown",
   "id": "5af6afa6",
   "metadata": {},
   "source": [
    "**What You Learned Here:**\n",
    "\n",
    "- How to store AI test case data in variables.\n",
    "- How to use numeric and comparison operators to decide pass/fail.\n",
    "- The foundation for storing results in later stages for **DeepEval** or **RAGAs** pipelines."
   ]
  },
  {
   "cell_type": "markdown",
   "id": "c40f58d1",
   "metadata": {},
   "source": []
  }
 ],
 "metadata": {
  "kernelspec": {
   "display_name": "testlab",
   "language": "python",
   "name": "python3"
  },
  "language_info": {
   "codemirror_mode": {
    "name": "ipython",
    "version": 3
   },
   "file_extension": ".py",
   "mimetype": "text/x-python",
   "name": "python",
   "nbconvert_exporter": "python",
   "pygments_lexer": "ipython3",
   "version": "3.11.7"
  }
 },
 "nbformat": 4,
 "nbformat_minor": 5
}
