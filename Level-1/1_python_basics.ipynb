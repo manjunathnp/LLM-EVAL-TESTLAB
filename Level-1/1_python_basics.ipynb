{
 "cells": [
  {
   "cell_type": "markdown",
   "id": "df7fc148",
   "metadata": {},
   "source": [
    "## Welcome Message to Console"
   ]
  },
  {
   "cell_type": "code",
   "execution_count": 1,
   "id": "9e0bfc67",
   "metadata": {},
   "outputs": [
    {
     "name": "stdout",
     "output_type": "stream",
     "text": [
      "Hello! Welcome to the fascinating world of AI Evaluations!!\n"
     ]
    }
   ],
   "source": [
    "print(\"Hello! Welcome to the fascinating world of AI Evaluations!!\")"
   ]
  },
  {
   "cell_type": "markdown",
   "id": "50cb9a65",
   "metadata": {},
   "source": [
    "## Python Basics (Variables, Data Types, Operators)"
   ]
  },
  {
   "cell_type": "markdown",
   "id": "6da8d751",
   "metadata": {},
   "source": [
    "### **Variables, Data Types, Operators**\n",
    "\n",
    "- Variables store data in memory \n",
    "- Data types define the nature of that data (numbers, text, lists, etc.). \n",
    "- Operators perform operations like addition, comparison, or concatenation."
   ]
  },
  {
   "cell_type": "code",
   "execution_count": 4,
   "id": "de128361",
   "metadata": {},
   "outputs": [
    {
     "name": "stdout",
     "output_type": "stream",
     "text": [
      "199.99\n",
      "AIEvals\n"
     ]
    }
   ],
   "source": [
    "# Variables\n",
    "x = 100             # number\n",
    "y = 'AI'    # string\n",
    "z = 99.99           # float\n",
    "\n",
    "# Operators\n",
    "sum = x + z             # addition\n",
    "text_result = y+'Evals' # concatenation\n",
    "\n",
    "print(sum)\n",
    "print(text_result)"
   ]
  },
  {
   "cell_type": "markdown",
   "id": "b4516577",
   "metadata": {},
   "source": []
  }
 ],
 "metadata": {
  "kernelspec": {
   "display_name": "testlab",
   "language": "python",
   "name": "python3"
  },
  "language_info": {
   "codemirror_mode": {
    "name": "ipython",
    "version": 3
   },
   "file_extension": ".py",
   "mimetype": "text/x-python",
   "name": "python",
   "nbconvert_exporter": "python",
   "pygments_lexer": "ipython3",
   "version": "3.11.7"
  }
 },
 "nbformat": 4,
 "nbformat_minor": 5
}
